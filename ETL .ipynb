{
 "cells": [
  {
   "cell_type": "markdown",
   "id": "5ca98b61",
   "metadata": {},
   "source": [
    "# Extracting json data from rapid api using python."
   ]
  },
  {
   "cell_type": "code",
   "execution_count": 4,
   "id": "1203dee9",
   "metadata": {},
   "outputs": [],
   "source": [
    "import requests\n",
    "import json\n",
    "\n",
    "url = \"https://covid-193.p.rapidapi.com/statistics\"\n",
    "\n",
    "headers = {\n",
    "\t\"X-RapidAPI-Key\": \"1fe4c38a3bmshffba4fecb2b6aa5p1ea6cajsn087be965bacc\",\n",
    "\t\"X-RapidAPI-Host\": \"covid-193.p.rapidapi.com\"\n",
    "}\n",
    "\n",
    "response = requests.get(url, headers=headers)\n",
    "\n",
    "data=response.json()\n",
    "\n",
    "statistics=data['response']\n",
    "\n",
    "statistics_json = json.dumps(statistics)\n",
    "\n",
    "#print(statistics_json)"
   ]
  },
  {
   "cell_type": "markdown",
   "id": "8cd2e552",
   "metadata": {},
   "source": [
    "# Transforming raw json data using pandas."
   ]
  },
  {
   "cell_type": "code",
   "execution_count": 5,
   "id": "c80b05ce",
   "metadata": {
    "scrolled": true
   },
   "outputs": [],
   "source": [
    "import pandas as pd\n",
    "covid_data=pd.read_json(statistics_json)\n",
    "# covid_data.head()"
   ]
  },
  {
   "cell_type": "code",
   "execution_count": 6,
   "id": "dd30fc86",
   "metadata": {},
   "outputs": [],
   "source": [
    "# Adding new columns to separate the information in the columns cases, deaths and tests.\n",
    "\n",
    "covid_data[\"total_cases\"]=covid_data.loc[:, \"cases\"].apply(lambda x: x.get(\"total\"))\n",
    "covid_data[\"new_cases\"]=covid_data.loc[:,\"cases\"].apply(lambda x:x.get(\"new\"))\n",
    "covid_data[\"total_deaths\"]=covid_data.loc[:, \"deaths\"].apply(lambda x: x.get(\"total\"))\n",
    "covid_data[\"new_deaths\"]=covid_data.loc[:,\"deaths\"].apply(lambda x:x.get(\"new\"))\n",
    "covid_data[\"total_tests\"]=covid_data.loc[:, \"tests\"].apply(lambda x: x.get(\"total\"))"
   ]
  },
  {
   "cell_type": "code",
   "execution_count": 7,
   "id": "edab3547",
   "metadata": {},
   "outputs": [
    {
     "data": {
      "text/html": [
       "<div>\n",
       "<style scoped>\n",
       "    .dataframe tbody tr th:only-of-type {\n",
       "        vertical-align: middle;\n",
       "    }\n",
       "\n",
       "    .dataframe tbody tr th {\n",
       "        vertical-align: top;\n",
       "    }\n",
       "\n",
       "    .dataframe thead th {\n",
       "        text-align: right;\n",
       "    }\n",
       "</style>\n",
       "<table border=\"1\" class=\"dataframe\">\n",
       "  <thead>\n",
       "    <tr style=\"text-align: right;\">\n",
       "      <th></th>\n",
       "      <th>continent</th>\n",
       "      <th>country</th>\n",
       "      <th>population</th>\n",
       "      <th>cases</th>\n",
       "      <th>deaths</th>\n",
       "      <th>tests</th>\n",
       "      <th>day</th>\n",
       "      <th>time</th>\n",
       "      <th>total_cases</th>\n",
       "      <th>new_cases</th>\n",
       "      <th>total_deaths</th>\n",
       "      <th>new_deaths</th>\n",
       "      <th>total_tests</th>\n",
       "    </tr>\n",
       "  </thead>\n",
       "  <tbody>\n",
       "    <tr>\n",
       "      <th>0</th>\n",
       "      <td>Africa</td>\n",
       "      <td>Saint-Helena</td>\n",
       "      <td>6115.0</td>\n",
       "      <td>{'new': None, 'active': 2164, 'critical': None...</td>\n",
       "      <td>{'new': None, '1M_pop': None, 'total': None}</td>\n",
       "      <td>{'1M_pop': None, 'total': None}</td>\n",
       "      <td>2024-05-16</td>\n",
       "      <td>2024-05-16T06:30:13+00:00</td>\n",
       "      <td>2166</td>\n",
       "      <td>None</td>\n",
       "      <td>NaN</td>\n",
       "      <td>None</td>\n",
       "      <td>NaN</td>\n",
       "    </tr>\n",
       "    <tr>\n",
       "      <th>1</th>\n",
       "      <td>South-America</td>\n",
       "      <td>Falkland-Islands</td>\n",
       "      <td>3539.0</td>\n",
       "      <td>{'new': None, 'active': 0, 'critical': None, '...</td>\n",
       "      <td>{'new': None, '1M_pop': None, 'total': None}</td>\n",
       "      <td>{'1M_pop': '2439107', 'total': 8632}</td>\n",
       "      <td>2024-05-16</td>\n",
       "      <td>2024-05-16T06:30:13+00:00</td>\n",
       "      <td>1930</td>\n",
       "      <td>None</td>\n",
       "      <td>NaN</td>\n",
       "      <td>None</td>\n",
       "      <td>8632.0</td>\n",
       "    </tr>\n",
       "    <tr>\n",
       "      <th>2</th>\n",
       "      <td>North-America</td>\n",
       "      <td>Montserrat</td>\n",
       "      <td>4965.0</td>\n",
       "      <td>{'new': None, 'active': 19, 'critical': None, ...</td>\n",
       "      <td>{'new': None, '1M_pop': '1611', 'total': 8}</td>\n",
       "      <td>{'1M_pop': '3577442', 'total': 17762}</td>\n",
       "      <td>2024-05-16</td>\n",
       "      <td>2024-05-16T06:30:13+00:00</td>\n",
       "      <td>1403</td>\n",
       "      <td>None</td>\n",
       "      <td>8.0</td>\n",
       "      <td>None</td>\n",
       "      <td>17762.0</td>\n",
       "    </tr>\n",
       "    <tr>\n",
       "      <th>3</th>\n",
       "      <td>None</td>\n",
       "      <td>Diamond-Princess</td>\n",
       "      <td>NaN</td>\n",
       "      <td>{'new': None, 'active': 0, 'critical': None, '...</td>\n",
       "      <td>{'new': None, '1M_pop': None, 'total': 13}</td>\n",
       "      <td>{'1M_pop': None, 'total': None}</td>\n",
       "      <td>2024-05-16</td>\n",
       "      <td>2024-05-16T06:30:13+00:00</td>\n",
       "      <td>712</td>\n",
       "      <td>None</td>\n",
       "      <td>13.0</td>\n",
       "      <td>None</td>\n",
       "      <td>NaN</td>\n",
       "    </tr>\n",
       "    <tr>\n",
       "      <th>4</th>\n",
       "      <td>Europe</td>\n",
       "      <td>Vatican-City</td>\n",
       "      <td>799.0</td>\n",
       "      <td>{'new': None, 'active': 0, 'critical': None, '...</td>\n",
       "      <td>{'new': None, '1M_pop': None, 'total': None}</td>\n",
       "      <td>{'1M_pop': None, 'total': None}</td>\n",
       "      <td>2024-05-16</td>\n",
       "      <td>2024-05-16T06:30:13+00:00</td>\n",
       "      <td>29</td>\n",
       "      <td>None</td>\n",
       "      <td>NaN</td>\n",
       "      <td>None</td>\n",
       "      <td>NaN</td>\n",
       "    </tr>\n",
       "  </tbody>\n",
       "</table>\n",
       "</div>"
      ],
      "text/plain": [
       "       continent           country  population  \\\n",
       "0         Africa      Saint-Helena      6115.0   \n",
       "1  South-America  Falkland-Islands      3539.0   \n",
       "2  North-America        Montserrat      4965.0   \n",
       "3           None  Diamond-Princess         NaN   \n",
       "4         Europe      Vatican-City       799.0   \n",
       "\n",
       "                                               cases  \\\n",
       "0  {'new': None, 'active': 2164, 'critical': None...   \n",
       "1  {'new': None, 'active': 0, 'critical': None, '...   \n",
       "2  {'new': None, 'active': 19, 'critical': None, ...   \n",
       "3  {'new': None, 'active': 0, 'critical': None, '...   \n",
       "4  {'new': None, 'active': 0, 'critical': None, '...   \n",
       "\n",
       "                                         deaths  \\\n",
       "0  {'new': None, '1M_pop': None, 'total': None}   \n",
       "1  {'new': None, '1M_pop': None, 'total': None}   \n",
       "2   {'new': None, '1M_pop': '1611', 'total': 8}   \n",
       "3    {'new': None, '1M_pop': None, 'total': 13}   \n",
       "4  {'new': None, '1M_pop': None, 'total': None}   \n",
       "\n",
       "                                   tests         day  \\\n",
       "0        {'1M_pop': None, 'total': None}  2024-05-16   \n",
       "1   {'1M_pop': '2439107', 'total': 8632}  2024-05-16   \n",
       "2  {'1M_pop': '3577442', 'total': 17762}  2024-05-16   \n",
       "3        {'1M_pop': None, 'total': None}  2024-05-16   \n",
       "4        {'1M_pop': None, 'total': None}  2024-05-16   \n",
       "\n",
       "                        time  total_cases new_cases  total_deaths new_deaths  \\\n",
       "0  2024-05-16T06:30:13+00:00         2166      None           NaN       None   \n",
       "1  2024-05-16T06:30:13+00:00         1930      None           NaN       None   \n",
       "2  2024-05-16T06:30:13+00:00         1403      None           8.0       None   \n",
       "3  2024-05-16T06:30:13+00:00          712      None          13.0       None   \n",
       "4  2024-05-16T06:30:13+00:00           29      None           NaN       None   \n",
       "\n",
       "   total_tests  \n",
       "0          NaN  \n",
       "1       8632.0  \n",
       "2      17762.0  \n",
       "3          NaN  \n",
       "4          NaN  "
      ]
     },
     "execution_count": 7,
     "metadata": {},
     "output_type": "execute_result"
    }
   ],
   "source": [
    "covid_data.head()"
   ]
  },
  {
   "cell_type": "code",
   "execution_count": 8,
   "id": "271dda53",
   "metadata": {},
   "outputs": [],
   "source": [
    "# Dropping the columns with extra information.\n",
    "\n",
    "covid_data.drop(['cases','deaths','tests'],axis=1,inplace=True)"
   ]
  },
  {
   "cell_type": "code",
   "execution_count": 9,
   "id": "665c5dec",
   "metadata": {},
   "outputs": [
    {
     "name": "stdout",
     "output_type": "stream",
     "text": [
      "<class 'pandas.core.frame.DataFrame'>\n",
      "RangeIndex: 238 entries, 0 to 237\n",
      "Data columns (total 10 columns):\n",
      " #   Column        Non-Null Count  Dtype  \n",
      "---  ------        --------------  -----  \n",
      " 0   continent     236 non-null    object \n",
      " 1   country       238 non-null    object \n",
      " 2   population    229 non-null    float64\n",
      " 3   day           238 non-null    object \n",
      " 4   time          238 non-null    object \n",
      " 5   total_cases   238 non-null    int64  \n",
      " 6   new_cases     17 non-null     object \n",
      " 7   total_deaths  233 non-null    float64\n",
      " 8   new_deaths    3 non-null      object \n",
      " 9   total_tests   213 non-null    float64\n",
      "dtypes: float64(3), int64(1), object(6)\n",
      "memory usage: 84.1 KB\n"
     ]
    },
    {
     "data": {
      "text/plain": [
       "1186851502.0"
      ]
     },
     "execution_count": 9,
     "metadata": {},
     "output_type": "execute_result"
    }
   ],
   "source": [
    "covid_data.info(memory_usage=\"deep\")\n",
    "covid_data['total_tests'].max()"
   ]
  },
  {
   "cell_type": "code",
   "execution_count": 10,
   "id": "8960c67b",
   "metadata": {},
   "outputs": [
    {
     "data": {
      "text/plain": [
       "continent         2\n",
       "country           0\n",
       "population        9\n",
       "day               0\n",
       "time              0\n",
       "total_cases       0\n",
       "new_cases       221\n",
       "total_deaths      5\n",
       "new_deaths      235\n",
       "total_tests      25\n",
       "dtype: int64"
      ]
     },
     "execution_count": 10,
     "metadata": {},
     "output_type": "execute_result"
    }
   ],
   "source": [
    "covid_data.isna().sum()"
   ]
  },
  {
   "cell_type": "code",
   "execution_count": 11,
   "id": "48a8edf4",
   "metadata": {},
   "outputs": [],
   "source": [
    "# Filling the missing values in multiple columns\n",
    "\n",
    "covid_data_updated=covid_data.fillna({'new_cases':0,'total_deaths':0,'new_deaths':0,'total_tests':0,'population':0})"
   ]
  },
  {
   "cell_type": "code",
   "execution_count": 12,
   "id": "0e9d0118",
   "metadata": {},
   "outputs": [
    {
     "data": {
      "text/html": [
       "<div>\n",
       "<style scoped>\n",
       "    .dataframe tbody tr th:only-of-type {\n",
       "        vertical-align: middle;\n",
       "    }\n",
       "\n",
       "    .dataframe tbody tr th {\n",
       "        vertical-align: top;\n",
       "    }\n",
       "\n",
       "    .dataframe thead th {\n",
       "        text-align: right;\n",
       "    }\n",
       "</style>\n",
       "<table border=\"1\" class=\"dataframe\">\n",
       "  <thead>\n",
       "    <tr style=\"text-align: right;\">\n",
       "      <th></th>\n",
       "      <th>continent</th>\n",
       "      <th>country</th>\n",
       "      <th>population</th>\n",
       "      <th>day</th>\n",
       "      <th>time</th>\n",
       "      <th>total_cases</th>\n",
       "      <th>new_cases</th>\n",
       "      <th>total_deaths</th>\n",
       "      <th>new_deaths</th>\n",
       "      <th>total_tests</th>\n",
       "    </tr>\n",
       "  </thead>\n",
       "  <tbody>\n",
       "    <tr>\n",
       "      <th>0</th>\n",
       "      <td>Africa</td>\n",
       "      <td>Saint-Helena</td>\n",
       "      <td>6115.0</td>\n",
       "      <td>2024-05-16</td>\n",
       "      <td>2024-05-16T06:30:13+00:00</td>\n",
       "      <td>2166</td>\n",
       "      <td>0</td>\n",
       "      <td>0.0</td>\n",
       "      <td>0</td>\n",
       "      <td>0.0</td>\n",
       "    </tr>\n",
       "    <tr>\n",
       "      <th>1</th>\n",
       "      <td>South-America</td>\n",
       "      <td>Falkland-Islands</td>\n",
       "      <td>3539.0</td>\n",
       "      <td>2024-05-16</td>\n",
       "      <td>2024-05-16T06:30:13+00:00</td>\n",
       "      <td>1930</td>\n",
       "      <td>0</td>\n",
       "      <td>0.0</td>\n",
       "      <td>0</td>\n",
       "      <td>8632.0</td>\n",
       "    </tr>\n",
       "    <tr>\n",
       "      <th>2</th>\n",
       "      <td>North-America</td>\n",
       "      <td>Montserrat</td>\n",
       "      <td>4965.0</td>\n",
       "      <td>2024-05-16</td>\n",
       "      <td>2024-05-16T06:30:13+00:00</td>\n",
       "      <td>1403</td>\n",
       "      <td>0</td>\n",
       "      <td>8.0</td>\n",
       "      <td>0</td>\n",
       "      <td>17762.0</td>\n",
       "    </tr>\n",
       "    <tr>\n",
       "      <th>3</th>\n",
       "      <td>None</td>\n",
       "      <td>Diamond-Princess</td>\n",
       "      <td>0.0</td>\n",
       "      <td>2024-05-16</td>\n",
       "      <td>2024-05-16T06:30:13+00:00</td>\n",
       "      <td>712</td>\n",
       "      <td>0</td>\n",
       "      <td>13.0</td>\n",
       "      <td>0</td>\n",
       "      <td>0.0</td>\n",
       "    </tr>\n",
       "    <tr>\n",
       "      <th>4</th>\n",
       "      <td>Europe</td>\n",
       "      <td>Vatican-City</td>\n",
       "      <td>799.0</td>\n",
       "      <td>2024-05-16</td>\n",
       "      <td>2024-05-16T06:30:13+00:00</td>\n",
       "      <td>29</td>\n",
       "      <td>0</td>\n",
       "      <td>0.0</td>\n",
       "      <td>0</td>\n",
       "      <td>0.0</td>\n",
       "    </tr>\n",
       "  </tbody>\n",
       "</table>\n",
       "</div>"
      ],
      "text/plain": [
       "       continent           country  population         day  \\\n",
       "0         Africa      Saint-Helena      6115.0  2024-05-16   \n",
       "1  South-America  Falkland-Islands      3539.0  2024-05-16   \n",
       "2  North-America        Montserrat      4965.0  2024-05-16   \n",
       "3           None  Diamond-Princess         0.0  2024-05-16   \n",
       "4         Europe      Vatican-City       799.0  2024-05-16   \n",
       "\n",
       "                        time  total_cases new_cases  total_deaths new_deaths  \\\n",
       "0  2024-05-16T06:30:13+00:00         2166         0           0.0          0   \n",
       "1  2024-05-16T06:30:13+00:00         1930         0           0.0          0   \n",
       "2  2024-05-16T06:30:13+00:00         1403         0           8.0          0   \n",
       "3  2024-05-16T06:30:13+00:00          712         0          13.0          0   \n",
       "4  2024-05-16T06:30:13+00:00           29         0           0.0          0   \n",
       "\n",
       "   total_tests  \n",
       "0          0.0  \n",
       "1       8632.0  \n",
       "2      17762.0  \n",
       "3          0.0  \n",
       "4          0.0  "
      ]
     },
     "execution_count": 12,
     "metadata": {},
     "output_type": "execute_result"
    }
   ],
   "source": [
    "covid_data_updated.head()"
   ]
  },
  {
   "cell_type": "code",
   "execution_count": 13,
   "id": "22c3f28c",
   "metadata": {},
   "outputs": [],
   "source": [
    "# Standardizing column formats\n",
    "\n",
    "covid_data_updated=covid_data_updated.astype(\n",
    "    {\"population\":\"int64\",\n",
    "     \"total_deaths\":\"int64\",\n",
    "     \"total_tests\":\"int64\",\n",
    "     \"day\":\"datetime64[ns]\",\n",
    "     \"time\":\"datetime64[ns]\",\n",
    "     \"new_cases\":\"int16\",\n",
    "     \"new_deaths\":\"int16\"})\n"
   ]
  },
  {
   "cell_type": "code",
   "execution_count": 14,
   "id": "a3d55997",
   "metadata": {},
   "outputs": [
    {
     "name": "stdout",
     "output_type": "stream",
     "text": [
      "<class 'pandas.core.frame.DataFrame'>\n",
      "RangeIndex: 238 entries, 0 to 237\n",
      "Data columns (total 10 columns):\n",
      " #   Column        Non-Null Count  Dtype         \n",
      "---  ------        --------------  -----         \n",
      " 0   continent     236 non-null    object        \n",
      " 1   country       238 non-null    object        \n",
      " 2   population    238 non-null    int64         \n",
      " 3   day           238 non-null    datetime64[ns]\n",
      " 4   time          238 non-null    datetime64[ns]\n",
      " 5   total_cases   238 non-null    int64         \n",
      " 6   new_cases     238 non-null    int16         \n",
      " 7   total_deaths  238 non-null    int64         \n",
      " 8   new_deaths    238 non-null    int16         \n",
      " 9   total_tests   238 non-null    int64         \n",
      "dtypes: datetime64[ns](2), int16(2), int64(4), object(2)\n",
      "memory usage: 42.3 KB\n"
     ]
    }
   ],
   "source": [
    "covid_data_updated.info(memory_usage=\"deep\")"
   ]
  },
  {
   "cell_type": "markdown",
   "id": "f6fce71b",
   "metadata": {},
   "source": [
    "# Loading clean data in a SQL database (PostgresSQL) using psycopg2."
   ]
  },
  {
   "cell_type": "code",
   "execution_count": 59,
   "id": "af094bc0",
   "metadata": {},
   "outputs": [],
   "source": [
    "import psycopg2\n",
    "import configparser"
   ]
  },
  {
   "cell_type": "code",
   "execution_count": 60,
   "id": "f8592237",
   "metadata": {},
   "outputs": [],
   "source": [
    "config=configparser.ConfigParser()\n",
    "config.read_file(open(\"cluster.config\"))"
   ]
  },
  {
   "cell_type": "code",
   "execution_count": 61,
   "id": "52c5bf28",
   "metadata": {},
   "outputs": [],
   "source": [
    "USER=config.get(\"DB\",\"DB_USER\")\n",
    "PASSWORD=config.get(\"DB\",\"DB_PASSWORD\")\n",
    "PORT=config.get(\"DB\",\"DB_PORT\")"
   ]
  },
  {
   "cell_type": "code",
   "execution_count": 15,
   "id": "bf187fea",
   "metadata": {},
   "outputs": [],
   "source": [
    "# conn=psycopg2.connect(host=\"127.0.0.1\", dbname=\"postgres\", port=PORT, user=USER, password=PASSWORD)\n",
    "# curr=conn.cursor()\n",
    "# conn.set_session(autocommit=True)\n",
    "\n",
    "# curr.execute(\"CREATE DATABASE IF NOT EXISTS COVID_DATA\")\n",
    "# conn.close()"
   ]
  },
  {
   "cell_type": "code",
   "execution_count": 62,
   "id": "83fecac5",
   "metadata": {},
   "outputs": [],
   "source": [
    "conn=psycopg2.connect(host=\"127.0.0.1\", dbname=\"covid_data\", port=PORT, user=USER, password=PASSWORD)\n",
    "curr=conn.cursor()"
   ]
  },
  {
   "cell_type": "code",
   "execution_count": 63,
   "id": "e89b79f9",
   "metadata": {},
   "outputs": [],
   "source": [
    "covid_data_table_create=(\"\"\"CREATE TABLE IF NOT EXISTS covidData(\n",
    "id SERIAL PRIMARY KEY,\n",
    "continent varchar,\n",
    "country varchar,\n",
    "population int,\n",
    "day TIMESTAMP,\n",
    "time TIMESTAMP,\n",
    "total_cases int,\n",
    "new_cases int,\n",
    "total_deaths int,\n",
    "new_deaths int,\n",
    "total_tests int\n",
    ")\"\"\")\n",
    "curr.execute(covid_data_table_create)\n",
    "conn.commit()"
   ]
  },
  {
   "cell_type": "code",
   "execution_count": 64,
   "id": "b81d4d90",
   "metadata": {},
   "outputs": [],
   "source": [
    "covid_data_table_insert=(\"\"\"INSERT INTO covidData(\n",
    "continent, \n",
    "country, \n",
    "population, \n",
    "day, \n",
    "time, \n",
    "total_cases, \n",
    "new_cases, \n",
    "total_deaths, \n",
    "new_deaths, \n",
    "total_tests\n",
    ")\n",
    "VALUES (%s, %s, %s, %s, %s, %s, %s, %s, %s, %s)\n",
    "\"\"\")"
   ]
  },
  {
   "cell_type": "code",
   "execution_count": 65,
   "id": "70ae189e",
   "metadata": {},
   "outputs": [],
   "source": [
    "for i,row in covid_data_updated.iterrows():\n",
    "    curr.execute(covid_data_table_insert,list(row))"
   ]
  },
  {
   "cell_type": "code",
   "execution_count": 66,
   "id": "69fc8159",
   "metadata": {},
   "outputs": [],
   "source": [
    "conn.commit()"
   ]
  },
  {
   "cell_type": "code",
   "execution_count": 67,
   "id": "769a1c26",
   "metadata": {},
   "outputs": [],
   "source": [
    "conn.close()"
   ]
  }
 ],
 "metadata": {
  "kernelspec": {
   "display_name": "Python 3 (ipykernel)",
   "language": "python",
   "name": "python3"
  },
  "language_info": {
   "codemirror_mode": {
    "name": "ipython",
    "version": 3
   },
   "file_extension": ".py",
   "mimetype": "text/x-python",
   "name": "python",
   "nbconvert_exporter": "python",
   "pygments_lexer": "ipython3",
   "version": "3.11.3"
  }
 },
 "nbformat": 4,
 "nbformat_minor": 5
}
